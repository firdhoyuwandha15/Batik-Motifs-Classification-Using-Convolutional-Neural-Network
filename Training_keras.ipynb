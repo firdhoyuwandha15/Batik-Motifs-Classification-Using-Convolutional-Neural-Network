{
  "nbformat": 4,
  "nbformat_minor": 0,
  "metadata": {
    "colab": {
      "name": "Training_keras.ipynb",
      "provenance": [],
      "collapsed_sections": []
    },
    "kernelspec": {
      "name": "python3",
      "display_name": "Python 3"
    },
    "accelerator": "GPU"
  },
  "cells": [
    {
      "cell_type": "code",
      "metadata": {
        "id": "GTIM6VtDQgB8",
        "colab_type": "code",
        "colab": {
          "base_uri": "https://localhost:8080/",
          "height": 122
        },
        "outputId": "33dfa301-5380-4649-f4e4-03f92afda4b8"
      },
      "source": [
        "from google.colab import drive\n",
        "drive.mount('/content/drive')"
      ],
      "execution_count": null,
      "outputs": [
        {
          "output_type": "stream",
          "text": [
            "Go to this URL in a browser: https://accounts.google.com/o/oauth2/auth?client_id=947318989803-6bn6qk8qdgf4n4g3pfee6491hc0brc4i.apps.googleusercontent.com&redirect_uri=urn%3aietf%3awg%3aoauth%3a2.0%3aoob&response_type=code&scope=email%20https%3a%2f%2fwww.googleapis.com%2fauth%2fdocs.test%20https%3a%2f%2fwww.googleapis.com%2fauth%2fdrive%20https%3a%2f%2fwww.googleapis.com%2fauth%2fdrive.photos.readonly%20https%3a%2f%2fwww.googleapis.com%2fauth%2fpeopleapi.readonly\n",
            "\n",
            "Enter your authorization code:\n",
            "··········\n",
            "Mounted at /content/drive\n"
          ],
          "name": "stdout"
        }
      ]
    },
    {
      "cell_type": "code",
      "metadata": {
        "id": "ibNYIWbyQk__",
        "colab_type": "code",
        "colab": {}
      },
      "source": [
        "import numpy as np\n",
        "X_train = np.load('/content/drive/My Drive/RGB_X_train.npy')\n",
        "y_train = np.load('/content/drive/My Drive/RGB_y_train.npy')"
      ],
      "execution_count": null,
      "outputs": []
    },
    {
      "cell_type": "code",
      "metadata": {
        "id": "dtmJfjiQRAe5",
        "colab_type": "code",
        "colab": {
          "base_uri": "https://localhost:8080/",
          "height": 51
        },
        "outputId": "24d4dfb0-ea87-4a53-b329-59ac0702b4be"
      },
      "source": [
        "print(X_train.shape)\n",
        "print(y_train.shape)"
      ],
      "execution_count": null,
      "outputs": [
        {
          "output_type": "stream",
          "text": [
            "(3750, 224, 224, 3)\n",
            "(3750,)\n"
          ],
          "name": "stdout"
        }
      ]
    },
    {
      "cell_type": "code",
      "metadata": {
        "id": "HuJjl9BhRCnD",
        "colab_type": "code",
        "colab": {}
      },
      "source": [
        "import tensorflow as tf\n",
        "from tensorflow.keras import datasets, layers, models, optimizers"
      ],
      "execution_count": null,
      "outputs": []
    },
    {
      "cell_type": "code",
      "metadata": {
        "id": "_lWl_aX6rNq1",
        "colab_type": "code",
        "colab": {}
      },
      "source": [
        "model1 = models.Sequential()\n",
        "\n",
        "model1.add(layers.Conv2D(filters = 48, kernel_size = (11,11), padding = 'SAME', activation ='relu', input_shape = (224,224,3)))\n",
        "model1.add(layers.MaxPooling2D(pool_size=(3,3), padding = 'SAME'))\n",
        "\n",
        "model1.add(layers.Conv2D(filters = 64, kernel_size = (7,7), padding = 'SAME', activation ='relu'))\n",
        "model1.add(layers.MaxPooling2D(pool_size=(3,3), padding = 'SAME'))\n",
        "\n",
        "model1.add(layers.Conv2D(filters = 128, kernel_size = (5,5), padding = 'SAME', activation ='relu'))\n",
        "model1.add(layers.MaxPooling2D(pool_size=(3,3), padding = 'SAME'))\n",
        "\n",
        "model1.add(layers.Flatten())\n",
        "model1.add(layers.Dense(512, activation='relu'))\n",
        "model1.add(layers.Dropout(0.5))\n",
        "model1.add(layers.Dense(512, activation='relu'))\n",
        "model1.add(layers.Dense(10, activation='softmax'))\n",
        "\n",
        "model1.compile(\n",
        "  optimizer=optimizers.SGD(learning_rate=0.01),\n",
        "  loss='sparse_categorical_crossentropy',\n",
        "  metrics=['accuracy']\n",
        ")"
      ],
      "execution_count": null,
      "outputs": []
    },
    {
      "cell_type": "code",
      "metadata": {
        "id": "KmXAkYi-ssk1",
        "colab_type": "code",
        "colab": {}
      },
      "source": [
        "ModelCheck=tf.keras.callbacks.ModelCheckpoint(\n",
        "    filepath='/content/exp1_1',\n",
        "    monitor=\"loss\",\n",
        "    save_best_only=True,\n",
        "    save_weights_only=False,\n",
        "    mode=\"auto\",\n",
        "    verbose=0\n",
        ")"
      ],
      "execution_count": null,
      "outputs": []
    },
    {
      "cell_type": "code",
      "metadata": {
        "id": "MvG8KO0L5D_M",
        "colab_type": "code",
        "colab": {}
      },
      "source": [
        "model1.fit(X_train, y_train, epochs=50, callbacks=[ModelCheck])"
      ],
      "execution_count": null,
      "outputs": []
    },
    {
      "cell_type": "code",
      "metadata": {
        "id": "R66I2pDcuFCI",
        "colab_type": "code",
        "colab": {}
      },
      "source": [
        "!zip -r /content/exp1_1.zip /content/exp1_1"
      ],
      "execution_count": null,
      "outputs": []
    }
  ]
}