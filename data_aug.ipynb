{
  "nbformat": 4,
  "nbformat_minor": 0,
  "metadata": {
    "colab": {
      "name": "data_aug.ipynb",
      "provenance": [],
      "collapsed_sections": []
    },
    "kernelspec": {
      "name": "python3",
      "display_name": "Python 3"
    },
    "accelerator": "GPU"
  },
  "cells": [
    {
      "cell_type": "code",
      "metadata": {
        "id": "RIatqxXtLMsX",
        "colab_type": "code",
        "colab": {}
      },
      "source": [
        "import imageio\n",
        "import imgaug as ia\n",
        "from imgaug import augmenters as iaa"
      ],
      "execution_count": null,
      "outputs": []
    },
    {
      "cell_type": "code",
      "metadata": {
        "id": "6c3IeKbhttYM",
        "colab_type": "code",
        "colab": {}
      },
      "source": [
        "import imageio\n",
        "images = []"
      ],
      "execution_count": null,
      "outputs": []
    },
    {
      "cell_type": "code",
      "metadata": {
        "id": "rn4zpSp0Kkme",
        "colab_type": "code",
        "colab": {}
      },
      "source": [
        "image = imageio.imread('BT2.jpg')\n",
        "print(image.shape)\n",
        "print(\"Original:\")\n",
        "ia.imshow(image)\n",
        "images.append(image)"
      ],
      "execution_count": null,
      "outputs": []
    },
    {
      "cell_type": "code",
      "metadata": {
        "id": "k-VolD1FuGal",
        "colab_type": "code",
        "colab": {}
      },
      "source": [
        "len(images)"
      ],
      "execution_count": null,
      "outputs": []
    },
    {
      "cell_type": "code",
      "metadata": {
        "id": "gU5GSOJ8uh2y",
        "colab_type": "code",
        "colab": {}
      },
      "source": [
        "import imgaug as ia\n",
        "from imgaug import augmenters as iaa\n",
        "\n",
        "seq = iaa.Sequential([\n",
        "    iaa.Affine(rotate=(-70, 70)),\n",
        "    iaa.Crop(percent=(0, 0.4))\n",
        "], random_order=True)\n",
        "k=0\n",
        "for img in images:\n",
        "  k=k+1\n",
        "  images_aug = [seq.augment_image(img) for _ in range(49)]\n",
        "  for i, image_aug in enumerate(images_aug):\n",
        "    imageio.imwrite(\"BT%d_%d.jpg\" % (k,i), image_aug)\n",
        "  \n",
        "  !zip -r /content/BETAWI.zip /content"
      ],
      "execution_count": null,
      "outputs": []
    },
    {
      "cell_type": "code",
      "metadata": {
        "id": "AV5fkKszK30u",
        "colab_type": "code",
        "colab": {}
      },
      "source": [
        "seq = iaa.Sequential([\n",
        "    iaa.Affine(rotate=(-70, 70)),\n",
        "    iaa.Crop(percent=(0, 0.4))\n",
        "], random_order=True)\n",
        "\n",
        "images_aug = [seq.augment_image(image) for _ in range(49)]\n",
        "\n",
        "print(\"Augmented:\")\n",
        "ia.imshow(ia.draw_grid(images_aug, cols=10, rows=5))"
      ],
      "execution_count": null,
      "outputs": []
    },
    {
      "cell_type": "code",
      "metadata": {
        "id": "olicdcdHLaFd",
        "colab_type": "code",
        "colab": {}
      },
      "source": [
        "for i, image_aug in enumerate(images_aug):\n",
        "    imageio.imwrite(\"MM14_%d.jpg\" % (i,), image_aug)"
      ],
      "execution_count": null,
      "outputs": []
    },
    {
      "cell_type": "code",
      "metadata": {
        "id": "pNMZFCGDQk3w",
        "colab_type": "code",
        "colab": {}
      },
      "source": [
        "!zip -r /content/BETAWI.zip /content"
      ],
      "execution_count": null,
      "outputs": []
    }
  ]
}