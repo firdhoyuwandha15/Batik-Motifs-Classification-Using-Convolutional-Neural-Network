{
  "nbformat": 4,
  "nbformat_minor": 0,
  "metadata": {
    "colab": {
      "name": "Test_keras.ipynb",
      "provenance": [],
      "collapsed_sections": []
    },
    "kernelspec": {
      "name": "python3",
      "display_name": "Python 3"
    },
    "accelerator": "GPU"
  },
  "cells": [
    {
      "cell_type": "code",
      "metadata": {
        "id": "cY2U9eukpiYY",
        "colab_type": "code",
        "colab": {}
      },
      "source": [
        "from google.colab import drive\n",
        "drive.mount('/content/drive')"
      ],
      "execution_count": null,
      "outputs": []
    },
    {
      "cell_type": "code",
      "metadata": {
        "id": "rjuOCJaZpmFe",
        "colab_type": "code",
        "colab": {}
      },
      "source": [
        "import numpy as np\n",
        "X_test = np.load('/content/drive/My Drive/RGB_X_test.npy')\n",
        "y_test = np.load('/content/drive/My Drive/RGB_y_test.npy')"
      ],
      "execution_count": null,
      "outputs": []
    },
    {
      "cell_type": "code",
      "metadata": {
        "id": "xQLS08njXsDi",
        "colab_type": "code",
        "colab": {}
      },
      "source": [
        "!unzip 'exp1_1.zip'"
      ],
      "execution_count": null,
      "outputs": []
    },
    {
      "cell_type": "code",
      "metadata": {
        "id": "FpuK6tdop3nq",
        "colab_type": "code",
        "colab": {}
      },
      "source": [
        "import tensorflow as tf\n",
        "from tensorflow.keras import datasets, layers, models, optimizers, callbacks"
      ],
      "execution_count": null,
      "outputs": []
    },
    {
      "cell_type": "code",
      "metadata": {
        "id": "o_h4w2IQqAuD",
        "colab_type": "code",
        "colab": {}
      },
      "source": [
        "model1=tf.keras.models.load_model('/content/content/exp1_1')"
      ],
      "execution_count": null,
      "outputs": []
    },
    {
      "cell_type": "code",
      "metadata": {
        "id": "PEGSKtIOkWoy",
        "colab_type": "code",
        "colab": {
          "base_uri": "https://localhost:8080/",
          "height": 51
        },
        "outputId": "c74103d3-e13b-4232-8988-4b5c2021fb92"
      },
      "source": [
        "model1.evaluate(X_test, y_test)"
      ],
      "execution_count": null,
      "outputs": [
        {
          "output_type": "stream",
          "text": [
            "40/40 [==============================] - 2s 49ms/step - loss: 0.0663 - accuracy: 0.9784\n"
          ],
          "name": "stdout"
        },
        {
          "output_type": "execute_result",
          "data": {
            "text/plain": [
              "[0.06633246690034866, 0.9783999919891357]"
            ]
          },
          "metadata": {
            "tags": []
          },
          "execution_count": 6
        }
      ]
    },
    {
      "cell_type": "code",
      "metadata": {
        "id": "nYAvNUZLkf3v",
        "colab_type": "code",
        "colab": {
          "base_uri": "https://localhost:8080/",
          "height": 88
        },
        "outputId": "2196a12e-5aa1-442c-ddf6-c03f7a54758e"
      },
      "source": [
        "y_pred = model1.predict_classes(X_test)"
      ],
      "execution_count": null,
      "outputs": [
        {
          "output_type": "stream",
          "text": [
            "WARNING:tensorflow:From <ipython-input-7-de939d592f53>:1: Sequential.predict_classes (from tensorflow.python.keras.engine.sequential) is deprecated and will be removed after 2021-01-01.\n",
            "Instructions for updating:\n",
            "Please use instead:* `np.argmax(model.predict(x), axis=-1)`,   if your model does multi-class classification   (e.g. if it uses a `softmax` last-layer activation).* `(model.predict(x) > 0.5).astype(\"int32\")`,   if your model does binary classification   (e.g. if it uses a `sigmoid` last-layer activation).\n"
          ],
          "name": "stdout"
        }
      ]
    },
    {
      "cell_type": "code",
      "metadata": {
        "id": "P9YFghfmkuM4",
        "colab_type": "code",
        "colab": {
          "base_uri": "https://localhost:8080/",
          "height": 306
        },
        "outputId": "d9833495-ea20-4bef-d11d-85ce497c05a6"
      },
      "source": [
        "from sklearn.metrics import classification_report\n",
        "CATEGORIES = [\"Betawi\", \"Buketan\", \"Kawung\", \"Lasem\", \"Mega Mendung\", \"Parang\", \"Pring Sedapur\", \"Sekar Jagad\", \"Sido Asih\", \"Sidoluhur\"]\n",
        "print(classification_report(y_test, y_pred, target_names=CATEGORIES))"
      ],
      "execution_count": null,
      "outputs": [
        {
          "output_type": "stream",
          "text": [
            "               precision    recall  f1-score   support\n",
            "\n",
            "       Betawi       0.99      1.00      1.00       125\n",
            "      Buketan       0.98      0.98      0.98       125\n",
            "       Kawung       0.97      0.98      0.98       125\n",
            "        Lasem       0.98      1.00      0.99       125\n",
            " Mega Mendung       1.00      0.98      0.99       125\n",
            "       Parang       0.98      0.97      0.97       125\n",
            "Pring Sedapur       0.98      0.95      0.96       125\n",
            "  Sekar Jagad       0.98      0.97      0.98       125\n",
            "    Sido Asih       0.96      0.97      0.96       125\n",
            "    Sidoluhur       0.96      0.98      0.97       125\n",
            "\n",
            "     accuracy                           0.98      1250\n",
            "    macro avg       0.98      0.98      0.98      1250\n",
            " weighted avg       0.98      0.98      0.98      1250\n",
            "\n"
          ],
          "name": "stdout"
        }
      ]
    },
    {
      "cell_type": "code",
      "metadata": {
        "id": "FN_OoUf1ZJ1V",
        "colab_type": "code",
        "colab": {}
      },
      "source": [
        "TP = np.zeros(10)\n",
        "FP = np.zeros(10)\n",
        "FN = np.zeros(10)\n",
        "for i in range(10):\n",
        "  for j in range(1250):\n",
        "    if (y_test[j] == i) & (y_pred[j] == i):\n",
        "      TP[i]+=1\n",
        "    if (y_test[j] != i) & (y_pred[j] == i):\n",
        "      FP[i]+=1\n",
        "    if (y_test[j] == i) & (y_pred[j] != i):\n",
        "      FN[i]+=1"
      ],
      "execution_count": null,
      "outputs": []
    },
    {
      "cell_type": "code",
      "metadata": {
        "id": "MMUU5_m3ZPSd",
        "colab_type": "code",
        "colab": {
          "base_uri": "https://localhost:8080/",
          "height": 68
        },
        "outputId": "9345987d-400d-43c2-8213-90e1274b90bc"
      },
      "source": [
        "precision = np.zeros(10)\n",
        "recall = np.zeros(10)\n",
        "for i in range(10):\n",
        "  precision[i] = TP[i]/(TP[i]+FP[i])\n",
        "  recall[i] = TP[i]/(TP[i]+FN[i])"
      ],
      "execution_count": null,
      "outputs": [
        {
          "output_type": "stream",
          "text": [
            "122.0\n",
            "5.0\n",
            "3.0\n"
          ],
          "name": "stdout"
        }
      ]
    },
    {
      "cell_type": "code",
      "metadata": {
        "id": "-fZOgB3UboSw",
        "colab_type": "code",
        "colab": {}
      },
      "source": [
        ""
      ],
      "execution_count": null,
      "outputs": []
    }
  ]
}