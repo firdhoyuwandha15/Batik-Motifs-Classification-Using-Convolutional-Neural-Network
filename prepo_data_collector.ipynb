{
  "nbformat": 4,
  "nbformat_minor": 0,
  "metadata": {
    "colab": {
      "name": "prepo_data_collector.ipynb",
      "provenance": [],
      "collapsed_sections": []
    },
    "kernelspec": {
      "name": "python3",
      "display_name": "Python 3"
    },
    "accelerator": "GPU"
  },
  "cells": [
    {
      "cell_type": "code",
      "metadata": {
        "id": "CDEa9AOx2PIW",
        "colab_type": "code",
        "colab": {
          "base_uri": "https://localhost:8080/",
          "height": 122
        },
        "outputId": "c2d6ae5a-7a07-4d98-bfaa-048b2d392aa8"
      },
      "source": [
        "from google.colab import drive\n",
        "drive.mount('/content/drive')"
      ],
      "execution_count": null,
      "outputs": [
        {
          "output_type": "stream",
          "text": [
            "Go to this URL in a browser: https://accounts.google.com/o/oauth2/auth?client_id=947318989803-6bn6qk8qdgf4n4g3pfee6491hc0brc4i.apps.googleusercontent.com&redirect_uri=urn%3aietf%3awg%3aoauth%3a2.0%3aoob&response_type=code&scope=email%20https%3a%2f%2fwww.googleapis.com%2fauth%2fdocs.test%20https%3a%2f%2fwww.googleapis.com%2fauth%2fdrive%20https%3a%2f%2fwww.googleapis.com%2fauth%2fdrive.photos.readonly%20https%3a%2f%2fwww.googleapis.com%2fauth%2fpeopleapi.readonly\n",
            "\n",
            "Enter your authorization code:\n",
            "··········\n",
            "Mounted at /content/drive\n"
          ],
          "name": "stdout"
        }
      ]
    },
    {
      "cell_type": "code",
      "metadata": {
        "id": "amG-wd6n2UXa",
        "colab_type": "code",
        "colab": {}
      },
      "source": [
        "import numpy as np\n",
        "import matplotlib.pyplot as plt\n",
        "import os\n",
        "import cv2\n",
        "\n",
        "DATADIR1 = \"/content/drive/My Drive/Batik Data Split Fix/Training Data\"\n",
        "DATADIR2 = \"/content/drive/My Drive/Batik Data Split Fix/Test Data\"\n",
        "CATEGORIES = [\"Betawi\", \"Buketan\", \"Kawung\", \"Lasem\", \"Mega Mendung\", \"Parang\", \"Pring Sedapur\", \"Sekar Jagad\", \"Sido Asih\", \"Sidoluhur\"]"
      ],
      "execution_count": null,
      "outputs": []
    },
    {
      "cell_type": "code",
      "metadata": {
        "id": "W6i6ILxB2poK",
        "colab_type": "code",
        "colab": {
          "base_uri": "https://localhost:8080/",
          "height": 71
        },
        "outputId": "e9d1df2b-859c-496c-a0ef-1646a5103002"
      },
      "source": [
        "import os\n",
        "import cv2\n",
        "import numpy as np\n",
        "\n",
        "training = []\n",
        "test = []\n",
        "\n",
        "def create_data(color_model):\n",
        "  if color_model == 'rgb':\n",
        "    i=1\n",
        "    for category in CATEGORIES:\n",
        "      class_num = CATEGORIES.index(category)\n",
        "      path_training = os.path.join(DATADIR_training, category)\n",
        "      path_test = os.path.join(DATADIR_test, category)\n",
        "    \n",
        "      for img in os.listdir(path_training):\n",
        "        img_array = cv2.imread(os.path.join(path_training,img))\n",
        "        img_array = cv2.resize(img_array,(224,224))\n",
        "        img_array = cv2.cvtColor(img_array, cv2.COLOR_BGR2RGB)\n",
        "        img_array = img_array/255.0\n",
        "        training.append([img_array, class_num])\n",
        "\n",
        "      for img in os.listdir(path_test):\n",
        "        img_array = cv2.imread(os.path.join(path_test,img))\n",
        "        img_array = cv2.resize(img_array,(224,224))\n",
        "        img_array = cv2.cvtColor(img_array, cv2.COLOR_BGR2RGB)\n",
        "        img_array = img_array/255.0\n",
        "        test.append([img_array, class_num])\n",
        "      print(i)\n",
        "      i=i+1\n",
        "  \n",
        "  elif color_model == 'hsv':\n",
        "    for category in CATEGORIES:\n",
        "      class_num = CATEGORIES.index(category)\n",
        "      path_training = os.path.join(DATADIR_training, category)\n",
        "      path_test = os.path.join(DATADIR_test, category)\n",
        "      \n",
        "      for img in os.listdir(path_training):\n",
        "        img_array = cv2.imread(os.path.join(path_training,img))\n",
        "        img_array = cv2.cvtColor(img_array, cv2.COLOR_BGR2HSV)\n",
        "        img_array = cv2.resize(img_array,(224,224))\n",
        "        temp = img_array/255.0\n",
        "        temp = np.delete(temp,0,2)\n",
        "        temp2 = img_array/179.0\n",
        "        temp2 = np.delete(temp2,[1,2],2)\n",
        "        img_array = np.append(temp2, temp, axis=2)\n",
        "        training.append([img_array, class_num])\n",
        "      \n",
        "      for img in os.listdir(path_test):\n",
        "        img_array = cv2.imread(os.path.join(path_test,img))\n",
        "        img_array = cv2.cvtColor(img_array, cv2.COLOR_BGR2HSV)\n",
        "        img_array = cv2.resize(img_array,(224,224))\n",
        "        temp = img_array/255.0\n",
        "        temp = np.delete(temp,0,2)\n",
        "        temp2 = img_array/179.0\n",
        "        temp2 = np.delete(temp2,[1,2],2)\n",
        "        img_array = np.append(temp2, temp, axis=2)\n",
        "        test.append([img_array, class_num])\n",
        "\n",
        "  elif color_model == 'gray':\n",
        "    for category in CATEGORIES:\n",
        "      class_num = CATEGORIES.index(category)\n",
        "      path_training = os.path.join(DATADIR_training, category)\n",
        "      path_test = os.path.join(DATADIR_test, category)\n",
        "    \n",
        "      for img in os.listdir(path_training):\n",
        "        img_array = cv2.imread(os.path.join(path_training,img), cv2.IMREAD_GRAYSCALE)\n",
        "        img_array = cv2.resize(img_array,(224,224))\n",
        "        img_array = img_array/255.0\n",
        "        training.append([img_array, class_num])\n",
        "\n",
        "      for img in os.listdir(path_test):\n",
        "        img_array = cv2.imread(os.path.join(path_test,img), cv2.IMREAD_GRAYSCALE)\n",
        "        img_array = cv2.resize(img_array,(224,224))\n",
        "        img_array = img_array/255.0\n",
        "        test.append([img_array, class_num])\n",
        "\n",
        "  else:\n",
        "    print('Input correct color_model')"
      ],
      "execution_count": null,
      "outputs": [
        {
          "output_type": "stream",
          "text": [
            "['Betawi', 'Buketan', 'Kawung', 'Lasem', 'Mega Mendung', 'Parang', 'Pring Sedapur', 'Sekar Jagad', 'Sido Asih', 'Sidoluhur']\n",
            "3750\n"
          ],
          "name": "stdout"
        }
      ]
    },
    {
      "cell_type": "code",
      "metadata": {
        "id": "WHDaW5nd3EQq",
        "colab_type": "code",
        "colab": {}
      },
      "source": [
        "import random\n",
        "\n",
        "random.shuffle(training)\n",
        "random.shuffle(test)"
      ],
      "execution_count": null,
      "outputs": []
    },
    {
      "cell_type": "code",
      "metadata": {
        "id": "VnOABHV_3NRX",
        "colab_type": "code",
        "colab": {}
      },
      "source": [
        "X_train = []\n",
        "y_train = []\n",
        "\n",
        "for features, label in training:\n",
        "  X_train.append(features)\n",
        "  y_train.append(label)\n",
        "\n",
        "X_test = []\n",
        "y_test = []\n",
        "\n",
        "for features, label in test:\n",
        "  X_test.append(features)\n",
        "  y_test.append(label)\n"
      ],
      "execution_count": null,
      "outputs": []
    },
    {
      "cell_type": "code",
      "metadata": {
        "id": "NNaz17vD38ov",
        "colab_type": "code",
        "colab": {}
      },
      "source": [
        "X_train = np.array(X_train)\n",
        "y_train = np.array(y_train)\n",
        "\n",
        "X_train = X_train.reshape(3750, 224, 224, 3)\n",
        "\n",
        "X_test = np.array(X_test)\n",
        "y_test = np.array(y_test)\n",
        "\n",
        "X_test = X_test.reshape(1250, 224, 224, 3)\n"
      ],
      "execution_count": null,
      "outputs": []
    },
    {
      "cell_type": "code",
      "metadata": {
        "id": "DIQTPWy14_02",
        "colab_type": "code",
        "colab": {}
      },
      "source": [
        "np.save('RGB_X_train.npy', X_train)\n",
        "np.save('RGB_y_train.npy', y_train)\n",
        "\n",
        "np.save('RGB_X_test.npy', X_test)\n",
        "np.save('RGB_y_test.npy', y_test)\n"
      ],
      "execution_count": null,
      "outputs": []
    },
    {
      "cell_type": "code",
      "metadata": {
        "id": "GjeU9WSx-71B",
        "colab_type": "code",
        "colab": {
          "base_uri": "https://localhost:8080/",
          "height": 34
        },
        "outputId": "a267fdad-19f8-4b78-882a-0703e0792a86"
      },
      "source": [
        "# Which file to send?\n",
        "file_name = 'Gray_X_test.npy'\n",
        "path_file = '/content/Gray_X_test.npy'\n",
        "\n",
        "from googleapiclient.http import MediaFileUpload\n",
        "from googleapiclient.discovery import build\n",
        "from google.colab import auth\n",
        "\n",
        "auth.authenticate_user()\n",
        "drive_service = build('drive', 'v3')\n",
        "\n",
        "def save_file_to_drive(name, path):\n",
        "  file_metadata = {'name': name, 'mimeType': 'application/octet-stream'}\n",
        "  media = MediaFileUpload(path, mimetype='application/octet-stream', resumable=True)\n",
        "  created = drive_service.files().create(body=file_metadata, media_body=media, fields='id').execute()\n",
        "  \n",
        "  return created\n",
        "\n",
        "save_file_to_drive(file_name, path_file)"
      ],
      "execution_count": null,
      "outputs": [
        {
          "output_type": "execute_result",
          "data": {
            "text/plain": [
              "{'id': '10NePidsfqx41tKbyic0_8j3ksQ-1P2uD'}"
            ]
          },
          "metadata": {
            "tags": []
          },
          "execution_count": 19
        }
      ]
    },
    {
      "cell_type": "code",
      "metadata": {
        "id": "6EP_w-h6GeAI",
        "colab_type": "code",
        "colab": {}
      },
      "source": [
        ""
      ],
      "execution_count": null,
      "outputs": []
    }
  ]
}